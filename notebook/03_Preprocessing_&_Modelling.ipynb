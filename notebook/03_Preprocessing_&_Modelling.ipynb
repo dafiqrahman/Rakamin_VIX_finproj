{
  "nbformat": 4,
  "nbformat_minor": 0,
  "metadata": {
    "colab": {
      "name": "03_Preprocessing_&_Modelling.ipynb",
      "provenance": [],
      "collapsed_sections": []
    },
    "kernelspec": {
      "name": "python3",
      "display_name": "Python 3"
    },
    "language_info": {
      "name": "python"
    }
  },
  "cells": [
    {
      "cell_type": "code",
      "source": [
        "#!pip install matplotlib --upgrade\n",
        "# !pip install lightgbm --upgrade\n",
        "#!pip install scikit-optimize"
      ],
      "metadata": {
        "id": "Yfo9ouHU710f"
      },
      "execution_count": null,
      "outputs": []
    },
    {
      "cell_type": "code",
      "execution_count": null,
      "metadata": {
        "id": "fyJ290-Iwk4J"
      },
      "outputs": [],
      "source": [
        "import numpy as np\n",
        "import pandas as pd\n",
        "import matplotlib.pyplot as plt \n",
        "import seaborn as sns\n",
        "\n",
        "from sklearn.model_selection import train_test_split\n",
        "from sklearn.preprocessing import PowerTransformer,OrdinalEncoder\n",
        "from sklearn.compose import ColumnTransformer\n",
        "from sklearn.pipeline import Pipeline\n",
        "from sklearn.impute import SimpleImputer\n",
        "\n",
        "from sklearn.model_selection import StratifiedKFold \n",
        "from lightgbm import LGBMClassifier\n",
        "\n",
        "from skopt import BayesSearchCV\n",
        "from skopt.space import Real, Categorical, Integer\n",
        "from sklearn.metrics import fbeta_score,make_scorer"
      ]
    },
    {
      "cell_type": "markdown",
      "source": [
        "## Import Data"
      ],
      "metadata": {
        "id": "BggqRH1gx30X"
      }
    },
    {
      "cell_type": "code",
      "source": [
        "df = pd.read_csv(\"/content/drive/MyDrive/belajar python/case study/rakamin_home_credit/data/clean/app_train_72.csv\",index_col = \"sk_id_curr\")\n",
        "df.head()"
      ],
      "metadata": {
        "colab": {
          "base_uri": "https://localhost:8080/",
          "height": 331
        },
        "id": "rKcPAZRMxsNa",
        "outputId": "9679e2a1-c235-4111-fc8f-a139e011e324"
      },
      "execution_count": null,
      "outputs": [
        {
          "output_type": "execute_result",
          "data": {
            "text/plain": [
              "            target name_contract_type code_gender flag_own_car  \\\n",
              "sk_id_curr                                                       \n",
              "100002           1         Cash loans           M            N   \n",
              "100003           0         Cash loans           F            N   \n",
              "100004           0    Revolving loans           M            Y   \n",
              "100006           0         Cash loans           F            N   \n",
              "100007           0         Cash loans           M            N   \n",
              "\n",
              "           flag_own_realty  cnt_children  amt_income_total  amt_credit  \\\n",
              "sk_id_curr                                                               \n",
              "100002                   Y             0          202500.0    406597.5   \n",
              "100003                   N             0          270000.0   1293502.5   \n",
              "100004                   Y             0           67500.0    135000.0   \n",
              "100006                   Y             0          135000.0    312682.5   \n",
              "100007                   Y             0          121500.0    513000.0   \n",
              "\n",
              "            amt_annuity  amt_goods_price  ... flag_document_18  \\\n",
              "sk_id_curr                                ...                    \n",
              "100002          24700.5         351000.0  ...                0   \n",
              "100003          35698.5        1129500.0  ...                0   \n",
              "100004           6750.0         135000.0  ...                0   \n",
              "100006          29686.5         297000.0  ...                0   \n",
              "100007          21865.5         513000.0  ...                0   \n",
              "\n",
              "           flag_document_19 flag_document_20 flag_document_21  \\\n",
              "sk_id_curr                                                      \n",
              "100002                    0                0                0   \n",
              "100003                    0                0                0   \n",
              "100004                    0                0                0   \n",
              "100006                    0                0                0   \n",
              "100007                    0                0                0   \n",
              "\n",
              "           amt_req_credit_bureau_hour  amt_req_credit_bureau_day  \\\n",
              "sk_id_curr                                                         \n",
              "100002                            0.0                        0.0   \n",
              "100003                            0.0                        0.0   \n",
              "100004                            0.0                        0.0   \n",
              "100006                            NaN                        NaN   \n",
              "100007                            0.0                        0.0   \n",
              "\n",
              "            amt_req_credit_bureau_week  amt_req_credit_bureau_mon  \\\n",
              "sk_id_curr                                                          \n",
              "100002                             0.0                        0.0   \n",
              "100003                             0.0                        0.0   \n",
              "100004                             0.0                        0.0   \n",
              "100006                             NaN                        NaN   \n",
              "100007                             0.0                        0.0   \n",
              "\n",
              "            amt_req_credit_bureau_qrt  amt_req_credit_bureau_year  \n",
              "sk_id_curr                                                         \n",
              "100002                            0.0                         1.0  \n",
              "100003                            0.0                         0.0  \n",
              "100004                            0.0                         0.0  \n",
              "100006                            NaN                         NaN  \n",
              "100007                            0.0                         0.0  \n",
              "\n",
              "[5 rows x 72 columns]"
            ],
            "text/html": [
              "\n",
              "  <div id=\"df-bd575729-6b1e-4495-ad39-f7125369bdbb\">\n",
              "    <div class=\"colab-df-container\">\n",
              "      <div>\n",
              "<style scoped>\n",
              "    .dataframe tbody tr th:only-of-type {\n",
              "        vertical-align: middle;\n",
              "    }\n",
              "\n",
              "    .dataframe tbody tr th {\n",
              "        vertical-align: top;\n",
              "    }\n",
              "\n",
              "    .dataframe thead th {\n",
              "        text-align: right;\n",
              "    }\n",
              "</style>\n",
              "<table border=\"1\" class=\"dataframe\">\n",
              "  <thead>\n",
              "    <tr style=\"text-align: right;\">\n",
              "      <th></th>\n",
              "      <th>target</th>\n",
              "      <th>name_contract_type</th>\n",
              "      <th>code_gender</th>\n",
              "      <th>flag_own_car</th>\n",
              "      <th>flag_own_realty</th>\n",
              "      <th>cnt_children</th>\n",
              "      <th>amt_income_total</th>\n",
              "      <th>amt_credit</th>\n",
              "      <th>amt_annuity</th>\n",
              "      <th>amt_goods_price</th>\n",
              "      <th>...</th>\n",
              "      <th>flag_document_18</th>\n",
              "      <th>flag_document_19</th>\n",
              "      <th>flag_document_20</th>\n",
              "      <th>flag_document_21</th>\n",
              "      <th>amt_req_credit_bureau_hour</th>\n",
              "      <th>amt_req_credit_bureau_day</th>\n",
              "      <th>amt_req_credit_bureau_week</th>\n",
              "      <th>amt_req_credit_bureau_mon</th>\n",
              "      <th>amt_req_credit_bureau_qrt</th>\n",
              "      <th>amt_req_credit_bureau_year</th>\n",
              "    </tr>\n",
              "    <tr>\n",
              "      <th>sk_id_curr</th>\n",
              "      <th></th>\n",
              "      <th></th>\n",
              "      <th></th>\n",
              "      <th></th>\n",
              "      <th></th>\n",
              "      <th></th>\n",
              "      <th></th>\n",
              "      <th></th>\n",
              "      <th></th>\n",
              "      <th></th>\n",
              "      <th></th>\n",
              "      <th></th>\n",
              "      <th></th>\n",
              "      <th></th>\n",
              "      <th></th>\n",
              "      <th></th>\n",
              "      <th></th>\n",
              "      <th></th>\n",
              "      <th></th>\n",
              "      <th></th>\n",
              "      <th></th>\n",
              "    </tr>\n",
              "  </thead>\n",
              "  <tbody>\n",
              "    <tr>\n",
              "      <th>100002</th>\n",
              "      <td>1</td>\n",
              "      <td>Cash loans</td>\n",
              "      <td>M</td>\n",
              "      <td>N</td>\n",
              "      <td>Y</td>\n",
              "      <td>0</td>\n",
              "      <td>202500.0</td>\n",
              "      <td>406597.5</td>\n",
              "      <td>24700.5</td>\n",
              "      <td>351000.0</td>\n",
              "      <td>...</td>\n",
              "      <td>0</td>\n",
              "      <td>0</td>\n",
              "      <td>0</td>\n",
              "      <td>0</td>\n",
              "      <td>0.0</td>\n",
              "      <td>0.0</td>\n",
              "      <td>0.0</td>\n",
              "      <td>0.0</td>\n",
              "      <td>0.0</td>\n",
              "      <td>1.0</td>\n",
              "    </tr>\n",
              "    <tr>\n",
              "      <th>100003</th>\n",
              "      <td>0</td>\n",
              "      <td>Cash loans</td>\n",
              "      <td>F</td>\n",
              "      <td>N</td>\n",
              "      <td>N</td>\n",
              "      <td>0</td>\n",
              "      <td>270000.0</td>\n",
              "      <td>1293502.5</td>\n",
              "      <td>35698.5</td>\n",
              "      <td>1129500.0</td>\n",
              "      <td>...</td>\n",
              "      <td>0</td>\n",
              "      <td>0</td>\n",
              "      <td>0</td>\n",
              "      <td>0</td>\n",
              "      <td>0.0</td>\n",
              "      <td>0.0</td>\n",
              "      <td>0.0</td>\n",
              "      <td>0.0</td>\n",
              "      <td>0.0</td>\n",
              "      <td>0.0</td>\n",
              "    </tr>\n",
              "    <tr>\n",
              "      <th>100004</th>\n",
              "      <td>0</td>\n",
              "      <td>Revolving loans</td>\n",
              "      <td>M</td>\n",
              "      <td>Y</td>\n",
              "      <td>Y</td>\n",
              "      <td>0</td>\n",
              "      <td>67500.0</td>\n",
              "      <td>135000.0</td>\n",
              "      <td>6750.0</td>\n",
              "      <td>135000.0</td>\n",
              "      <td>...</td>\n",
              "      <td>0</td>\n",
              "      <td>0</td>\n",
              "      <td>0</td>\n",
              "      <td>0</td>\n",
              "      <td>0.0</td>\n",
              "      <td>0.0</td>\n",
              "      <td>0.0</td>\n",
              "      <td>0.0</td>\n",
              "      <td>0.0</td>\n",
              "      <td>0.0</td>\n",
              "    </tr>\n",
              "    <tr>\n",
              "      <th>100006</th>\n",
              "      <td>0</td>\n",
              "      <td>Cash loans</td>\n",
              "      <td>F</td>\n",
              "      <td>N</td>\n",
              "      <td>Y</td>\n",
              "      <td>0</td>\n",
              "      <td>135000.0</td>\n",
              "      <td>312682.5</td>\n",
              "      <td>29686.5</td>\n",
              "      <td>297000.0</td>\n",
              "      <td>...</td>\n",
              "      <td>0</td>\n",
              "      <td>0</td>\n",
              "      <td>0</td>\n",
              "      <td>0</td>\n",
              "      <td>NaN</td>\n",
              "      <td>NaN</td>\n",
              "      <td>NaN</td>\n",
              "      <td>NaN</td>\n",
              "      <td>NaN</td>\n",
              "      <td>NaN</td>\n",
              "    </tr>\n",
              "    <tr>\n",
              "      <th>100007</th>\n",
              "      <td>0</td>\n",
              "      <td>Cash loans</td>\n",
              "      <td>M</td>\n",
              "      <td>N</td>\n",
              "      <td>Y</td>\n",
              "      <td>0</td>\n",
              "      <td>121500.0</td>\n",
              "      <td>513000.0</td>\n",
              "      <td>21865.5</td>\n",
              "      <td>513000.0</td>\n",
              "      <td>...</td>\n",
              "      <td>0</td>\n",
              "      <td>0</td>\n",
              "      <td>0</td>\n",
              "      <td>0</td>\n",
              "      <td>0.0</td>\n",
              "      <td>0.0</td>\n",
              "      <td>0.0</td>\n",
              "      <td>0.0</td>\n",
              "      <td>0.0</td>\n",
              "      <td>0.0</td>\n",
              "    </tr>\n",
              "  </tbody>\n",
              "</table>\n",
              "<p>5 rows × 72 columns</p>\n",
              "</div>\n",
              "      <button class=\"colab-df-convert\" onclick=\"convertToInteractive('df-bd575729-6b1e-4495-ad39-f7125369bdbb')\"\n",
              "              title=\"Convert this dataframe to an interactive table.\"\n",
              "              style=\"display:none;\">\n",
              "        \n",
              "  <svg xmlns=\"http://www.w3.org/2000/svg\" height=\"24px\"viewBox=\"0 0 24 24\"\n",
              "       width=\"24px\">\n",
              "    <path d=\"M0 0h24v24H0V0z\" fill=\"none\"/>\n",
              "    <path d=\"M18.56 5.44l.94 2.06.94-2.06 2.06-.94-2.06-.94-.94-2.06-.94 2.06-2.06.94zm-11 1L8.5 8.5l.94-2.06 2.06-.94-2.06-.94L8.5 2.5l-.94 2.06-2.06.94zm10 10l.94 2.06.94-2.06 2.06-.94-2.06-.94-.94-2.06-.94 2.06-2.06.94z\"/><path d=\"M17.41 7.96l-1.37-1.37c-.4-.4-.92-.59-1.43-.59-.52 0-1.04.2-1.43.59L10.3 9.45l-7.72 7.72c-.78.78-.78 2.05 0 2.83L4 21.41c.39.39.9.59 1.41.59.51 0 1.02-.2 1.41-.59l7.78-7.78 2.81-2.81c.8-.78.8-2.07 0-2.86zM5.41 20L4 18.59l7.72-7.72 1.47 1.35L5.41 20z\"/>\n",
              "  </svg>\n",
              "      </button>\n",
              "      \n",
              "  <style>\n",
              "    .colab-df-container {\n",
              "      display:flex;\n",
              "      flex-wrap:wrap;\n",
              "      gap: 12px;\n",
              "    }\n",
              "\n",
              "    .colab-df-convert {\n",
              "      background-color: #E8F0FE;\n",
              "      border: none;\n",
              "      border-radius: 50%;\n",
              "      cursor: pointer;\n",
              "      display: none;\n",
              "      fill: #1967D2;\n",
              "      height: 32px;\n",
              "      padding: 0 0 0 0;\n",
              "      width: 32px;\n",
              "    }\n",
              "\n",
              "    .colab-df-convert:hover {\n",
              "      background-color: #E2EBFA;\n",
              "      box-shadow: 0px 1px 2px rgba(60, 64, 67, 0.3), 0px 1px 3px 1px rgba(60, 64, 67, 0.15);\n",
              "      fill: #174EA6;\n",
              "    }\n",
              "\n",
              "    [theme=dark] .colab-df-convert {\n",
              "      background-color: #3B4455;\n",
              "      fill: #D2E3FC;\n",
              "    }\n",
              "\n",
              "    [theme=dark] .colab-df-convert:hover {\n",
              "      background-color: #434B5C;\n",
              "      box-shadow: 0px 1px 3px 1px rgba(0, 0, 0, 0.15);\n",
              "      filter: drop-shadow(0px 1px 2px rgba(0, 0, 0, 0.3));\n",
              "      fill: #FFFFFF;\n",
              "    }\n",
              "  </style>\n",
              "\n",
              "      <script>\n",
              "        const buttonEl =\n",
              "          document.querySelector('#df-bd575729-6b1e-4495-ad39-f7125369bdbb button.colab-df-convert');\n",
              "        buttonEl.style.display =\n",
              "          google.colab.kernel.accessAllowed ? 'block' : 'none';\n",
              "\n",
              "        async function convertToInteractive(key) {\n",
              "          const element = document.querySelector('#df-bd575729-6b1e-4495-ad39-f7125369bdbb');\n",
              "          const dataTable =\n",
              "            await google.colab.kernel.invokeFunction('convertToInteractive',\n",
              "                                                     [key], {});\n",
              "          if (!dataTable) return;\n",
              "\n",
              "          const docLinkHtml = 'Like what you see? Visit the ' +\n",
              "            '<a target=\"_blank\" href=https://colab.research.google.com/notebooks/data_table.ipynb>data table notebook</a>'\n",
              "            + ' to learn more about interactive tables.';\n",
              "          element.innerHTML = '';\n",
              "          dataTable['output_type'] = 'display_data';\n",
              "          await google.colab.output.renderOutput(dataTable, element);\n",
              "          const docLink = document.createElement('div');\n",
              "          docLink.innerHTML = docLinkHtml;\n",
              "          element.appendChild(docLink);\n",
              "        }\n",
              "      </script>\n",
              "    </div>\n",
              "  </div>\n",
              "  "
            ]
          },
          "metadata": {},
          "execution_count": 2
        }
      ]
    },
    {
      "cell_type": "markdown",
      "source": [
        "## Dataset Splitting"
      ],
      "metadata": {
        "id": "woPEYGu9x57n"
      }
    },
    {
      "cell_type": "code",
      "source": [
        "## stratified shuffle\n",
        "X = df.drop(columns=\"target\")\n",
        "y = df.target\n",
        "\n",
        "X_train, X_test, y_train, y_test = train_test_split(X, y, test_size=0.2, stratify=y, random_state=42)\n",
        "X_train.shape, X_test.shape, y_train.shape, y_test.shape"
      ],
      "metadata": {
        "colab": {
          "base_uri": "https://localhost:8080/"
        },
        "id": "SFJsGSQhy4yB",
        "outputId": "6023e03c-1973-420a-99d7-257bdee837d0"
      },
      "execution_count": null,
      "outputs": [
        {
          "output_type": "execute_result",
          "data": {
            "text/plain": [
              "((246008, 71), (61503, 71), (246008,), (61503,))"
            ]
          },
          "metadata": {},
          "execution_count": 3
        }
      ]
    },
    {
      "cell_type": "markdown",
      "source": [
        "## Preprocessing"
      ],
      "metadata": {
        "id": "UPVuWEgrzKoy"
      }
    },
    {
      "cell_type": "code",
      "source": [
        "document_col = X_train.loc[:,\"flag_document_2\":\"flag_document_21\"].columns.to_list()\n",
        "reg_col = X_train.loc[:,\"reg_region_not_live_region\":'live_city_not_work_city'].columns.to_list()\n",
        "flag_contact = X_train.loc[:,\"flag_mobil\":\"flag_email\"].columns.to_list()\n",
        "passthrough_col = document_col + reg_col + flag_contact\n",
        "\n",
        "num_prep_col = X_train.select_dtypes(include = np.number).columns.to_list()\n",
        "for i in passthrough_col:\n",
        "    num_prep_col.remove(i)"
      ],
      "metadata": {
        "id": "X4pLn7jh1iG_"
      },
      "execution_count": null,
      "outputs": []
    },
    {
      "cell_type": "code",
      "source": [
        "#COMMON\n",
        "num_pipe = Pipeline([\n",
        "    ('impute',SimpleImputer(strategy=\"median\")),\n",
        "    (\"Power\", PowerTransformer())\n",
        "])\n",
        "\n",
        "cat_pipe = Pipeline([\n",
        "    (\"impute\", SimpleImputer(strategy = \"most_frequent\")),\n",
        "    (\"ordinal\",OrdinalEncoder())\n",
        "])\n",
        "\n",
        "preprocessor = ColumnTransformer([\n",
        "    ('numeric', num_pipe, num_prep_col),\n",
        "    ('categoric', cat_pipe, X_train.select_dtypes(include = \"object\").columns.to_list()),\n",
        "],remainder = \"passthrough\")"
      ],
      "metadata": {
        "id": "jV36f4kMzWA5"
      },
      "execution_count": null,
      "outputs": []
    },
    {
      "cell_type": "markdown",
      "source": [
        "## LGBM"
      ],
      "metadata": {
        "id": "gDXi5Qw5HL2V"
      }
    },
    {
      "cell_type": "code",
      "source": [
        "lgbm_params = {\n",
        "    'algo__colsample_bytree': Real(low=0.1, high=1, transform='identity'),\n",
        "    'algo__subsample': Real(low=0.2, high=1, transform='identity'),\n",
        "    \"algo__num_leaves\" : Integer(low = 32,high = 80,transform  = \"identity\"),\n",
        "    'algo__reg_alpha': Real(low=0.01, high=10, prior='uniform', transform='identity'),\n",
        "    'algo__reg_lambda': Real(low=0.01, high=10, prior='uniform', transform='identity'),\n",
        "    \"algo__scale_pos_weight\" : Real(low = 1,high = 11,prior = 'uniform',transform = \"identity\")\n",
        "}\n",
        "\n",
        "pipeline_lgbm = Pipeline([\n",
        "    ('prep', preprocessor),\n",
        "    ('algo', LGBMClassifier(random_state=42,objective = \"binary\"))\n",
        "])\n",
        "\n",
        "scorer = make_scorer(fbeta_score,beta = 1)\n",
        "\n",
        "model_lgbm = BayesSearchCV(pipeline_lgbm, lgbm_params, cv=4, scoring=scorer,\n",
        "                          n_iter=25, n_jobs=-1, verbose=1, random_state=42)\n",
        "model_lgbm.fit(X_train, y_train)\n",
        "\n",
        "print(model_lgbm.best_params_)\n",
        "print(model_lgbm.score(X_train, y_train), model_lgbm.best_score_, model_lgbm.score(X_test, y_test))"
      ],
      "metadata": {
        "colab": {
          "base_uri": "https://localhost:8080/"
        },
        "id": "KwyaN3-AC6JE",
        "outputId": "e28fc4a4-a7a4-463f-f50c-f3102307f1c9"
      },
      "execution_count": null,
      "outputs": [
        {
          "output_type": "stream",
          "name": "stdout",
          "text": [
            "Fitting 4 folds for each of 1 candidates, totalling 4 fits\n",
            "Fitting 4 folds for each of 1 candidates, totalling 4 fits\n",
            "Fitting 4 folds for each of 1 candidates, totalling 4 fits\n",
            "Fitting 4 folds for each of 1 candidates, totalling 4 fits\n",
            "Fitting 4 folds for each of 1 candidates, totalling 4 fits\n",
            "Fitting 4 folds for each of 1 candidates, totalling 4 fits\n",
            "Fitting 4 folds for each of 1 candidates, totalling 4 fits\n",
            "Fitting 4 folds for each of 1 candidates, totalling 4 fits\n",
            "Fitting 4 folds for each of 1 candidates, totalling 4 fits\n",
            "Fitting 4 folds for each of 1 candidates, totalling 4 fits\n",
            "Fitting 4 folds for each of 1 candidates, totalling 4 fits\n",
            "Fitting 4 folds for each of 1 candidates, totalling 4 fits\n",
            "Fitting 4 folds for each of 1 candidates, totalling 4 fits\n",
            "Fitting 4 folds for each of 1 candidates, totalling 4 fits\n",
            "Fitting 4 folds for each of 1 candidates, totalling 4 fits\n",
            "Fitting 4 folds for each of 1 candidates, totalling 4 fits\n",
            "Fitting 4 folds for each of 1 candidates, totalling 4 fits\n",
            "Fitting 4 folds for each of 1 candidates, totalling 4 fits\n",
            "Fitting 4 folds for each of 1 candidates, totalling 4 fits\n",
            "Fitting 4 folds for each of 1 candidates, totalling 4 fits\n",
            "Fitting 4 folds for each of 1 candidates, totalling 4 fits\n",
            "Fitting 4 folds for each of 1 candidates, totalling 4 fits\n",
            "Fitting 4 folds for each of 1 candidates, totalling 4 fits\n",
            "Fitting 4 folds for each of 1 candidates, totalling 4 fits\n",
            "Fitting 4 folds for each of 1 candidates, totalling 4 fits\n"
          ]
        },
        {
          "output_type": "stream",
          "name": "stderr",
          "text": [
            "/usr/local/lib/python3.7/dist-packages/sklearn/preprocessing/_data.py:3253: RuntimeWarning: divide by zero encountered in log\n",
            "  loglike = -n_samples / 2 * np.log(x_trans.var())\n"
          ]
        },
        {
          "output_type": "stream",
          "name": "stdout",
          "text": [
            "OrderedDict([('algo__colsample_bytree', 0.8311563895216271), ('algo__num_leaves', 40), ('algo__reg_alpha', 5.984490304346159), ('algo__reg_lambda', 8.029620163751542), ('algo__scale_pos_weight', 6.230523280543836), ('algo__subsample', 0.2763640313719948)])\n",
            "0.33206908228919746 0.2960345940096627 0.30613370089593384\n"
          ]
        }
      ]
    },
    {
      "cell_type": "code",
      "source": [
        "from sklearn.metrics import classification_report\n",
        "def clfr_plot(model, X_train, y_train, X_test, y_test):\n",
        "    fig, axes = plt.subplots(1, 2, figsize=(15, 6))\n",
        "\n",
        "    clf_report_train = classification_report(\n",
        "        y_train, model.predict(X_train), output_dict=True)\n",
        "    clf_report_test = classification_report(\n",
        "        y_test, model.predict(X_test), output_dict=True)\n",
        "\n",
        "    sns.heatmap(pd.DataFrame(\n",
        "        clf_report_train).iloc[:-1, :].T, annot=True, cmap=\"YlGnBu\", vmin=0, vmax=1, linewidths=0.5,ax = axes[0],cbar = False)\n",
        "    sns.heatmap(pd.DataFrame(\n",
        "        clf_report_test).iloc[:-1, :].T, annot=True, cmap=\"YlGnBu\", vmin=0, vmax=1, linewidths=0.5,ax = axes[1])\n",
        "    \n",
        "    axes[0].set_title(\"Train Set\")\n",
        "    axes[1].set_title(\"Test Set\")\n",
        "    plt.suptitle(\"Classification report\")\n",
        "    plt.show()"
      ],
      "metadata": {
        "id": "LE5d0Ec8LPKT"
      },
      "execution_count": null,
      "outputs": []
    },
    {
      "cell_type": "code",
      "source": [
        "clfr_plot(model_lgbm, X_train, y_train, X_test, y_test)"
      ],
      "metadata": {
        "colab": {
          "base_uri": "https://localhost:8080/",
          "height": 417
        },
        "id": "bfrFhNj6e1UQ",
        "outputId": "1c942915-32b7-4fb0-d9e1-ddb2548603b9"
      },
      "execution_count": null,
      "outputs": [
        {
          "output_type": "display_data",
          "data": {
            "text/plain": [
              "<Figure size 1080x432 with 3 Axes>"
            ],
            "image/png": "[encoded data removed]"
          },
          "metadata": {
            "needs_background": "light"
          }
        }
      ]
    },
    {
      "cell_type": "code",
      "source": [
        "y_sample = y_test.sample(100)\n",
        "y_sample.value_counts()"
      ],
      "metadata": {
        "colab": {
          "base_uri": "https://localhost:8080/"
        },
        "id": "_SYhyI2smF5g",
        "outputId": "0703b9e8-830f-489c-f040-28886b67656a"
      },
      "execution_count": null,
      "outputs": [
        {
          "output_type": "execute_result",
          "data": {
            "text/plain": [
              "0    94\n",
              "1     6\n",
              "Name: target, dtype: int64"
            ]
          },
          "metadata": {},
          "execution_count": 141
        }
      ]
    },
    {
      "cell_type": "code",
      "source": [
        "from sklearn.metrics import plot_confusion_matrix\n",
        "\n",
        "plot_confusion_matrix(model_lgbm,X_test.loc[y_sample.index], y_sample)"
      ],
      "metadata": {
        "colab": {
          "base_uri": "https://localhost:8080/",
          "height": 355
        },
        "id": "ZCA-znz_lwdJ",
        "outputId": "dee2d734-46e9-440a-e1de-7672f6df4888"
      },
      "execution_count": null,
      "outputs": [
        {
          "output_type": "stream",
          "name": "stderr",
          "text": [
            "/usr/local/lib/python3.7/dist-packages/sklearn/utils/deprecation.py:87: FutureWarning: Function plot_confusion_matrix is deprecated; Function `plot_confusion_matrix` is deprecated in 1.0 and will be removed in 1.2. Use one of the class methods: ConfusionMatrixDisplay.from_predictions or ConfusionMatrixDisplay.from_estimator.\n",
            "  warnings.warn(msg, category=FutureWarning)\n"
          ]
        },
        {
          "output_type": "execute_result",
          "data": {
            "text/plain": [
              "<sklearn.metrics._plot.confusion_matrix.ConfusionMatrixDisplay at 0x7f2403d53e10>"
            ]
          },
          "metadata": {},
          "execution_count": 142
        },
        {
          "output_type": "display_data",
          "data": {
            "text/plain": [
              "<Figure size 432x288 with 2 Axes>"
            ],
            "image/png": "[encoded data removed]"
          },
          "metadata": {
            "needs_background": "light"
          }
        }
      ]
    },
    {
      "cell_type": "code",
      "source": [
        "import joblib\n",
        "\n",
        "joblib.dump(model_lgbm,\"/content/drive/MyDrive/belajar python/case study/rakamin_home_credit/model/model_lgbm.pkl\")"
      ],
      "metadata": {
        "colab": {
          "base_uri": "https://localhost:8080/"
        },
        "id": "jTpG-tgPp247",
        "outputId": "b9b2c1d8-e1e8-41c3-8eb2-77005525a6c7"
      },
      "execution_count": null,
      "outputs": [
        {
          "output_type": "execute_result",
          "data": {
            "text/plain": [
              "['/content/drive/MyDrive/belajar python/case study/rakamin_home_credit/model/model_lgbm.pkl']"
            ]
          },
          "metadata": {},
          "execution_count": 136
        }
      ]
    }
  ]
}
